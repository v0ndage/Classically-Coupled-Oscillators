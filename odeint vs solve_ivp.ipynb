{
 "cells": [
  {
   "cell_type": "code",
   "execution_count": 1,
   "metadata": {},
   "outputs": [],
   "source": [
    "import numpy as np\n",
    "from numpy import sin, sqrt, pi, exp\n",
    "from scipy.integrate import odeint, solve_ivp\n",
    "from scipy.interpolate import BSpline\n",
    "from matplotlib import pyplot as plt"
   ]
  },
  {
   "cell_type": "code",
   "execution_count": 2,
   "metadata": {},
   "outputs": [],
   "source": [
    "def adjustSlice(xi, xf):    #adjusts the slice (xi - xf), returns newx and newy\n",
    "    #convert time you want to start & end at into index\n",
    "    xi = int(xi/dt)\n",
    "    xf = int(xf/dt)\n",
    "    #grab Noise slice and associated time slice\n",
    "    y = Ns[xi:xf]\n",
    "    x = ts[xi:xf]\n",
    "    #calculate average\n",
    "    mean = np.average(y)\n",
    "    #adjust noise by mean so new mean ~ 0\n",
    "    y = y - mean\n",
    "    return y, x"
   ]
  },
  {
   "cell_type": "code",
   "execution_count": 3,
   "metadata": {},
   "outputs": [],
   "source": [
    "def ode(v, t, c1, cn, p0):\n",
    "    #the dependent variables are updated first\n",
    "    p = p0/(sigma*sqrt(2*pi))*exp(-pow(t-t0, 2)/(2*pow(sigma,2)))\n",
    "    x1, y1, x2, y2, x3, y3 = v\n",
    "    #then the oscillators are calculated and updated in the Z array\n",
    "    Z = [y1, - g1*y1 - sin(x1) + c1 + k12*(x2-x1) + cn*N1[int((t-81)/dt)] + p,\n",
    "         y2, - g2*y2 - sin(x2) + C2 + k12*(x1-x2) + k23*(x3-x2), \n",
    "         y3, - g3*y3 - sin(x3) + C3 + k23*(x2-x3)]\n",
    "    return Z"
   ]
  },
  {
   "cell_type": "code",
   "execution_count": 4,
   "metadata": {},
   "outputs": [],
   "source": [
    "def ivp(t, v, c1, cn, p0):\n",
    "    #the dependent variables are updated first\n",
    "    p = p0/(sigma*sqrt(2*pi))*exp(-pow(t-t0, 2)/(2*pow(sigma,2)))\n",
    "    x1, y1, x2, y2, x3, y3 = v\n",
    "    #then the oscillators are calculated and updated in the Z array\n",
    "    Z = [y1, - g1*y1 - sin(x1) + c1 + k12*(x2-x1) + cn*N1[int((t-81)/dt)] + p,\n",
    "         y2, - g2*y2 - sin(x2) + C2 + k12*(x1-x2) + k23*(x3-x2), \n",
    "         y3, - g3*y3 - sin(x3) + C3 + k23*(x2-x3)]\n",
    "    return Z"
   ]
  },
  {
   "cell_type": "code",
   "execution_count": 5,
   "metadata": {},
   "outputs": [],
   "source": [
    "##Initial conditons [x1, y1, x2, y2, x3, y3]\n",
    "IC = [39.7, 0.0, 20.4, 0.0, 1.3, 0.0]\n",
    "#Constants [gamma1,2,3, C1,2,3, kappa12,23]\n",
    "g1, g2, g3, C2, C3, k12, k23 = [0.7, 1.1, 0.7, 0.8, -1.0, 0.1, 0.1]\n",
    "\n",
    "#Modifiables\n",
    "sigma = 10   #pulse spread (wavelength)\n",
    "t0 = 100     #pulse midpoint time"
   ]
  },
  {
   "cell_type": "code",
   "execution_count": 6,
   "metadata": {},
   "outputs": [
    {
     "name": "stdout",
     "output_type": "stream",
     "text": [
      "[ 80.    80.01  80.02 ... 119.97 119.98 119.99]\n"
     ]
    }
   ],
   "source": [
    "#Read Noise data from file\n",
    "data = np.genfromtxt('Noise.dat')\n",
    "t = data[:,0]\n",
    "Nt = data[:,1]\n",
    "\n",
    "#Interpolate Noise data\n",
    "dt = 0.01\n",
    "ts = np.arange(0, 500, dt)\n",
    "#grab interpolation class\n",
    "S = BSpline(t, Nt, 2)\n",
    "Ns = S(ts)\n",
    "\n",
    "#Grab slice and multiply by noise volume\n",
    "N1, t1 = adjustSlice(80, 120)\n",
    "tnew = np.arange(80, 120, dt)\n",
    "print(t1)"
   ]
  },
  {
   "cell_type": "code",
   "execution_count": 7,
   "metadata": {},
   "outputs": [],
   "source": [
    "Cn = 0.5\n",
    "P0 = 2.6\n",
    "C1 = 2.84"
   ]
  },
  {
   "cell_type": "code",
   "execution_count": 8,
   "metadata": {},
   "outputs": [],
   "source": [
    "z1 = odeint(ode, IC, tnew, (C1,Cn,P0))"
   ]
  },
  {
   "cell_type": "code",
   "execution_count": 9,
   "metadata": {},
   "outputs": [],
   "source": [
    "z2 = solve_ivp(ivp, [tnew[0], tnew[-1]], IC, t_eval=tnew, args=(C1,Cn,P0), dense_output=True)"
   ]
  },
  {
   "cell_type": "code",
   "execution_count": 10,
   "metadata": {},
   "outputs": [
    {
     "data": {
      "image/png": "[encoded data removed]",
      "text/plain": [
       "<Figure size 432x288 with 1 Axes>"
      ]
     },
     "metadata": {
      "needs_background": "light"
     },
     "output_type": "display_data"
    }
   ],
   "source": [
    "plt.plot(t1, z1[:,1], label='odeint')\n",
    "plt.plot(t1, z2.y[1], label='solve_ivp')\n",
    "plt.legend()\n",
    "#plt.xlim(90, 100)\n",
    "\n",
    "plt.show()"
   ]
  },
  {
   "cell_type": "code",
   "execution_count": null,
   "metadata": {},
   "outputs": [],
   "source": []
  }
 ],
 "metadata": {
  "kernelspec": {
   "display_name": "Python 3",
   "language": "python",
   "name": "python3"
  },
  "language_info": {
   "codemirror_mode": {
    "name": "ipython",
    "version": 3
   },
   "file_extension": ".py",
   "mimetype": "text/x-python",
   "name": "python",
   "nbconvert_exporter": "python",
   "pygments_lexer": "ipython3",
   "version": "3.7.7"
  }
 },
 "nbformat": 4,
 "nbformat_minor": 4
}
