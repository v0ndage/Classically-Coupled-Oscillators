{
 "cells": [
  {
   "cell_type": "markdown",
   "metadata": {},
   "source": [
    "## Here we explore analytical and numerical solutions for linear ODEs."
   ]
  },
  {
   "cell_type": "markdown",
   "metadata": {},
   "source": [
    "Since the equations are linear, we can solve them analytically as well as numerically. <br />\n",
    "The point then is to compare the different methods for doing so.<br />\n",
    "By doing this we can therefore understand the accuracy of our numerical approximations."
   ]
  },
  {
   "cell_type": "markdown",
   "metadata": {},
   "source": [
    "# Analytical"
   ]
  },
  {
   "cell_type": "markdown",
   "metadata": {},
   "source": [
    "For the analytical part, we could find the solution by hand (as I've already done).<br />\n",
    "Here however, we will do so with help from Sympy - Python's scientific library for mathematics.<br />\n",
    "This has the added benefit of writing our math out in LaTeX automatically."
   ]
  },
  {
   "cell_type": "code",
   "execution_count": 1,
   "metadata": {},
   "outputs": [],
   "source": [
    "#Set-up\n",
    "import sympy\n",
    "\n",
    "#This lets us print the math\n",
    "sympy.init_printing()\n",
    "\n",
    "#Initialize variables\n",
    "beta, k, x_0, xdot_0, t = sympy.symbols('beta, k, x_0, xdot_0, t')\n",
    "x = sympy.Function('x')"
   ]
  },
  {
   "cell_type": "code",
   "execution_count": 2,
   "metadata": {},
   "outputs": [
    {
     "data": {
      "image/png": "[encoded data removed]",
      "text/latex": [
       "$\\displaystyle \\beta \\frac{d}{d t} x{\\left(t \\right)} + k x{\\left(t \\right)} + \\frac{d^{2}}{d t^{2}} x{\\left(t \\right)}$"
      ],
      "text/plain": [
       "                        2      \n",
       "  d                    d       \n",
       "β⋅──(x(t)) + k⋅x(t) + ───(x(t))\n",
       "  dt                    2      \n",
       "                      dt       "
      ]
     },
     "execution_count": 2,
     "metadata": {},
     "output_type": "execute_result"
    }
   ],
   "source": [
    "#Define the equation\n",
    "eq = sympy.Derivative(x(t), t, 2) + beta * sympy.Derivative(x(t), t, 1) + k * x(t)\n",
    "eq"
   ]
  },
  {
   "cell_type": "code",
   "execution_count": 3,
   "metadata": {},
   "outputs": [
    {
     "data": {
      "image/png": "[encoded data removed]",
      "text/latex": [
       "$\\displaystyle x{\\left(t \\right)} = C_{1} e^{\\frac{t \\left(- \\beta - \\sqrt{\\beta^{2} - 4 k}\\right)}{2}} + C_{2} e^{\\frac{t \\left(- \\beta + \\sqrt{\\beta^{2} - 4 k}\\right)}{2}}$"
      ],
      "text/plain": [
       "             ⎛        __________⎞         ⎛        __________⎞\n",
       "             ⎜       ╱  2       ⎟         ⎜       ╱  2       ⎟\n",
       "           t⋅⎝-β - ╲╱  β  - 4⋅k ⎠       t⋅⎝-β + ╲╱  β  - 4⋅k ⎠\n",
       "           ──────────────────────       ──────────────────────\n",
       "                     2                            2           \n",
       "x(t) = C₁⋅ℯ                       + C₂⋅ℯ                      "
      ]
     },
     "execution_count": 3,
     "metadata": {},
     "output_type": "execute_result"
    }
   ],
   "source": [
    "#Solve the ODE\n",
    "sol = sympy.dsolve(eq)\n",
    "sol"
   ]
  },
  {
   "cell_type": "code",
   "execution_count": 4,
   "metadata": {},
   "outputs": [
    {
     "data": {
      "image/png": "[encoded data removed]",
      "text/latex": [
       "$\\displaystyle \\left[ C_{1} + C_{2} = x_{0}, \\  C_{1} \\left(- \\frac{\\beta}{2} - \\frac{\\sqrt{\\beta^{2} - 4 k}}{2}\\right) + C_{2} \\left(- \\frac{\\beta}{2} + \\frac{\\sqrt{\\beta^{2} - 4 k}}{2}\\right) = \\dot{x}_{0}\\right]$"
      ],
      "text/plain": [
       "⎡                 ⎛         __________⎞      ⎛         __________⎞     ⎤\n",
       "⎢                 ⎜        ╱  2       ⎟      ⎜        ╱  2       ⎟     ⎥\n",
       "⎢                 ⎜  β   ╲╱  β  - 4⋅k ⎟      ⎜  β   ╲╱  β  - 4⋅k ⎟     ⎥\n",
       "⎢C₁ + C₂ = x₀, C₁⋅⎜- ─ - ─────────────⎟ + C₂⋅⎜- ─ + ─────────────⎟ = ẋ₀⎥\n",
       "⎣                 ⎝  2         2      ⎠      ⎝  2         2      ⎠     ⎦"
      ]
     },
     "execution_count": 4,
     "metadata": {},
     "output_type": "execute_result"
    }
   ],
   "source": [
    "#Solve for constant relations (coupled equations)\n",
    "const = [sympy.Eq(sol.args[1].subs(t, 0), x_0), sympy.Eq(sol.args[1].diff(t).subs(t, 0), xdot_0)]\n",
    "const"
   ]
  },
  {
   "cell_type": "code",
   "execution_count": 5,
   "metadata": {},
   "outputs": [
    {
     "data": {
      "image/png": "[encoded data removed]",
      "text/latex": [
       "$\\displaystyle \\left[ \\left\\{ C_{1} : \\frac{- \\beta x_{0} + x_{0} \\sqrt{\\beta^{2} - 4 k} - 2 \\dot{x}_{0}}{2 \\sqrt{\\beta^{2} - 4 k}}, \\  C_{2} : \\frac{\\beta x_{0} + x_{0} \\sqrt{\\beta^{2} - 4 k} + 2 \\dot{x}_{0}}{2 \\sqrt{\\beta^{2} - 4 k}}\\right\\}\\right]$"
      ],
      "text/plain": [
       "⎡⎧                  __________                          __________       ⎫⎤\n",
       "⎢⎪                 ╱  2                                ╱  2              ⎪⎥\n",
       "⎢⎪    -β⋅x₀ + x₀⋅╲╱  β  - 4⋅k  - 2⋅ẋ₀      β⋅x₀ + x₀⋅╲╱  β  - 4⋅k  + 2⋅ẋ₀⎪⎥\n",
       "⎢⎨C₁: ───────────────────────────────, C₂: ──────────────────────────────⎬⎥\n",
       "⎢⎪                 __________                          __________        ⎪⎥\n",
       "⎢⎪                ╱  2                                ╱  2               ⎪⎥\n",
       "⎣⎩            2⋅╲╱  β  - 4⋅k                      2⋅╲╱  β  - 4⋅k         ⎭⎦"
      ]
     },
     "execution_count": 5,
     "metadata": {},
     "output_type": "execute_result"
    }
   ],
   "source": [
    "#Solve coupled equations for constants\n",
    "sol_const = sympy.solve(const)\n",
    "sol_const"
   ]
  },
  {
   "cell_type": "code",
   "execution_count": 6,
   "metadata": {},
   "outputs": [
    {
     "data": {
      "image/png": "[encoded data removed]",
      "text/latex": [
       "$\\displaystyle x{\\left(t \\right)} = \\frac{\\left(- \\beta x_{0} + x_{0} \\sqrt{\\beta^{2} - 4 k} - 2 \\dot{x}_{0}\\right) e^{\\frac{t \\left(- \\beta - \\sqrt{\\beta^{2} - 4 k}\\right)}{2}}}{2 \\sqrt{\\beta^{2} - 4 k}} + \\frac{\\left(\\beta x_{0} + x_{0} \\sqrt{\\beta^{2} - 4 k} + 2 \\dot{x}_{0}\\right) e^{\\frac{t \\left(- \\beta + \\sqrt{\\beta^{2} - 4 k}\\right)}{2}}}{2 \\sqrt{\\beta^{2} - 4 k}}$"
      ],
      "text/plain": [
       "                                            ⎛        __________⎞              \n",
       "                                            ⎜       ╱  2       ⎟              \n",
       "                                          t⋅⎝-β - ╲╱  β  - 4⋅k ⎠              \n",
       "       ⎛              __________       ⎞  ──────────────────────   ⎛          \n",
       "       ⎜             ╱  2              ⎟            2              ⎜          \n",
       "       ⎝-β⋅x₀ + x₀⋅╲╱  β  - 4⋅k  - 2⋅ẋ₀⎠⋅ℯ                         ⎝β⋅x₀ + x₀\n",
       "x(t) = ───────────────────────────────────────────────────────── + ───────────\n",
       "                                 __________                                   \n",
       "                                ╱  2                                          \n",
       "                            2⋅╲╱  β  - 4⋅k                                    \n",
       "\n",
       "                         ⎛        __________⎞\n",
       "                         ⎜       ╱  2       ⎟\n",
       "                       t⋅⎝-β + ╲╱  β  - 4⋅k ⎠\n",
       "   __________       ⎞  ──────────────────────\n",
       "  ╱  2              ⎟            2           \n",
       "⋅╲╱  β  - 4⋅k  + 2⋅ẋ₀⎠⋅ℯ                      \n",
       "─────────────────────────────────────────────\n",
       "              __________                     \n",
       "             ╱  2                            \n",
       "         2⋅╲╱  β  - 4⋅k                      "
      ]
     },
     "execution_count": 6,
     "metadata": {},
     "output_type": "execute_result"
    }
   ],
   "source": [
    "#Substitute constants into full solution\n",
    "full_sol = sol.subs(sol_const[0])\n",
    "full_sol"
   ]
  },
  {
   "cell_type": "markdown",
   "metadata": {},
   "source": [
    "<br />\n",
    "Now that we have our full equation, we proceed by choosing initial conditions for our variables. <br />\n",
    "This grants us an analytical solution we can plot for all time t.\n",
    "<br />"
   ]
  },
  {
   "cell_type": "code",
   "execution_count": 7,
   "metadata": {
    "scrolled": true
   },
   "outputs": [
    {
     "data": {
      "image/png": "[encoded data removed]",
      "text/latex": [
       "$\\displaystyle x{\\left(t \\right)} = \\frac{\\sqrt{7} i \\left(\\left(1 - \\sqrt{7} i\\right) e^{\\frac{t \\left(1 - \\sqrt{7} i\\right)}{2}} - \\left(1 + \\sqrt{7} i\\right) e^{\\frac{t \\left(1 + \\sqrt{7} i\\right)}{2}}\\right) e^{- t}}{7}$"
      ],
      "text/plain": [
       "            ⎛            t⋅(1 - √7⋅ⅈ)               t⋅(1 + √7⋅ⅈ)⎞    \n",
       "            ⎜            ────────────               ────────────⎟    \n",
       "            ⎜                 2                          2      ⎟  -t\n",
       "       √7⋅ⅈ⋅⎝(1 - √7⋅ⅈ)⋅ℯ             - (1 + √7⋅ⅈ)⋅ℯ            ⎠⋅ℯ  \n",
       "x(t) = ──────────────────────────────────────────────────────────────\n",
       "                                     7                               "
      ]
     },
     "execution_count": 7,
     "metadata": {},
     "output_type": "execute_result"
    }
   ],
   "source": [
    "#Initial conditions\n",
    "analytic = sympy.simplify(full_sol.subs({x_0:2, xdot_0:0, beta:1, k:2}))\n",
    "analytic"
   ]
  },
  {
   "cell_type": "code",
   "execution_count": 8,
   "metadata": {},
   "outputs": [
    {
     "data": {
      "image/png": "[encoded data removed]",
      "text/plain": [
       "<Figure size 432x288 with 1 Axes>"
      ]
     },
     "metadata": {
      "needs_background": "light"
     },
     "output_type": "display_data"
    },
    {
     "data": {
      "text/plain": [
       "<sympy.plotting.plot.Plot at 0x11cdd4cd0>"
      ]
     },
     "execution_count": 8,
     "metadata": {},
     "output_type": "execute_result"
    }
   ],
   "source": [
    "#Plot the solution\n",
    "sympy.plot(analytic.rhs, (t, 0, 15))"
   ]
  },
  {
   "cell_type": "markdown",
   "metadata": {},
   "source": [
    "<br />Here we have our first plotted result!<br/>\n",
    "We can therefore move onto the numerical solutions, and use this analytical one as a comparison.\n",
    "<br />"
   ]
  },
  {
   "cell_type": "markdown",
   "metadata": {},
   "source": [
    "# Numerical"
   ]
  },
  {
   "cell_type": "markdown",
   "metadata": {},
   "source": [
    "<br />\n",
    "We would use Scipy's odeint (ODE integration) function, which itself uses multiple methods depending on the input (primarily it uses LSODE), yet since we want to try various methods, we will rely instead on Scipy's IVP (initial value problem) solver. This allows us to specify which method we're using.\n",
    "<br />"
   ]
  },
  {
   "cell_type": "code",
   "execution_count": 9,
   "metadata": {},
   "outputs": [],
   "source": [
    "#Set-up\n",
    "import numpy as np\n",
    "from scipy.integrate import solve_ivp, odeint\n",
    "from matplotlib import pyplot as plt\n",
    "import pylab"
   ]
  },
  {
   "cell_type": "markdown",
   "metadata": {},
   "source": [
    "<br />\n",
    "Below is our main function for the numerical analysis. <br />\n",
    "It breaks the 2nd order into 2 first order equations.\n"
   ]
  },
  {
   "cell_type": "code",
   "execution_count": 10,
   "metadata": {},
   "outputs": [],
   "source": [
    "def model(t, IC, b, k):\n",
    "    #dependent vars and their initial states\n",
    "    x, xdot = IC\n",
    "    #coupled equations as array [z][zdot], where z = xdot\n",
    "    z = [[],[]]\n",
    "    z[0] = xdot\n",
    "    z[1] = - b*xdot - k*x\n",
    "    #return array\n",
    "    return z"
   ]
  },
  {
   "cell_type": "markdown",
   "metadata": {},
   "source": [
    "<p style=\"text-align: center\">\n",
    "Now that we have our model function, we can start to call the numerical methods. <br />\n",
    "First we set our initial conditions, then we call an assortment of different methods.\n",
    "</p>"
   ]
  },
  {
   "cell_type": "code",
   "execution_count": 11,
   "metadata": {},
   "outputs": [],
   "source": [
    "#Initial conditions\n",
    "beta = 1\n",
    "k = 2\n",
    "x_0 = 2\n",
    "x_0dot = 0\n",
    "\n",
    "#Method calls\n",
    "LSODA = solve_ivp(model, [0, 20], [x_0, x_0dot], args=(beta, k), method='LSODA', dense_output=True)\n",
    "RK45 = solve_ivp(model, [0, 20], [x_0, x_0dot], args=(beta, k), method='RK45', dense_output=True)\n",
    "BDF = solve_ivp(model, [0, 20], [x_0, x_0dot], args=(beta, k), method='BDF', dense_output=True)"
   ]
  },
  {
   "cell_type": "markdown",
   "metadata": {},
   "source": [
    "<br />\n",
    "Now that we have called the different methods without error, and stored their data in corresponding variables, we can plot them together and see if there's any difference.\n",
    "<br />"
   ]
  },
  {
   "cell_type": "code",
   "execution_count": 12,
   "metadata": {
    "scrolled": true
   },
   "outputs": [
    {
     "data": {
      "image/png": "[encoded data removed]",
      "text/plain": [
       "<Figure size 432x288 with 1 Axes>"
      ]
     },
     "metadata": {
      "needs_background": "light"
     },
     "output_type": "display_data"
    }
   ],
   "source": [
    "#Time as array\n",
    "time = np.arange(0, 20.0, 0.01)\n",
    "\n",
    "#Initialize subplots for plotting analytical vs numerical\n",
    "z1 = LSODA.sol(time)\n",
    "z2 = RK45.sol(time)\n",
    "z3 = BDF.sol(time)\n",
    "\n",
    "#Construct plot - they are marked at different intervals so not to overlap\n",
    "fig, ax = pylab.subplots()\n",
    "ax.plot(time, z1[0].T, '.', ms=5, color='b', markevery=10, label='LSODA')\n",
    "ax.plot(time, z2[0].T, '.', ms=5, color='g', markevery=11, label='RK45')\n",
    "ax.plot(time, z3[0].T, '.', ms=5, color='r', markevery=12, label='BDF')\n",
    "plt.legend(loc='upper right')\n",
    "plt.grid(True)\n",
    "plt.show()"
   ]
  },
  {
   "cell_type": "markdown",
   "metadata": {},
   "source": [
    "<br />\n",
    "We see they compare almost exactly - certainly enough for our pixel resolution. <br />"
   ]
  },
  {
   "cell_type": "markdown",
   "metadata": {},
   "source": [
    "# Analytical vs Numerical"
   ]
  },
  {
   "cell_type": "markdown",
   "metadata": {},
   "source": [
    "<br />\n",
    "Finally we can plot any of these numerical solutions against our analytical one from before.\n",
    "<br />"
   ]
  },
  {
   "cell_type": "code",
   "execution_count": 13,
   "metadata": {},
   "outputs": [
    {
     "data": {
      "image/png": "[encoded data removed]",
      "text/plain": [
       "<Figure size 432x288 with 1 Axes>"
      ]
     },
     "metadata": {
      "needs_background": "light"
     },
     "output_type": "display_data"
    }
   ],
   "source": [
    "fig, ax = pylab.subplots()\n",
    "ax.plot(time, z2[0].T, '.', ms=5, color='g', markevery=11, label='RK45')\n",
    "ax.plot(time, np.real(sympy.lambdify(t, analytic.rhs, 'numpy')(time)), label='analytic')\n",
    "plt.legend(loc='upper right');\n",
    "plt.grid=True\n",
    "plt.show()"
   ]
  },
  {
   "cell_type": "markdown",
   "metadata": {},
   "source": [
    "All in all we see very strong agreement, which gives us good faith in these algorithms. \n",
    "The next thing we should do is move onto nonlinear equations - the domain these numerical methods were made for."
   ]
  }
 ],
 "metadata": {
  "kernelspec": {
   "display_name": "Python 3",
   "language": "python",
   "name": "python3"
  },
  "language_info": {
   "codemirror_mode": {
    "name": "ipython",
    "version": 3
   },
   "file_extension": ".py",
   "mimetype": "text/x-python",
   "name": "python",
   "nbconvert_exporter": "python",
   "pygments_lexer": "ipython3",
   "version": "3.7.7"
  }
 },
 "nbformat": 4,
 "nbformat_minor": 4
}
